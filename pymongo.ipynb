{
 "cells": [
  {
   "cell_type": "code",
   "execution_count": 2,
   "metadata": {},
   "outputs": [],
   "source": [
    "import pymongo"
   ]
  },
  {
   "cell_type": "markdown",
   "metadata": {},
   "source": [
    "##### Run this command to start mongodb service: sudo systemctl start mongod"
   ]
  },
  {
   "cell_type": "code",
   "execution_count": 3,
   "metadata": {},
   "outputs": [],
   "source": [
    "myclient = pymongo.MongoClient(\"mongodb://localhost:27017/\")"
   ]
  },
  {
   "cell_type": "markdown",
   "metadata": {},
   "source": [
    "## Create a database"
   ]
  },
  {
   "cell_type": "code",
   "execution_count": 4,
   "metadata": {},
   "outputs": [],
   "source": [
    "mydb = myclient[\"mydatabase\"]"
   ]
  },
  {
   "cell_type": "code",
   "execution_count": 5,
   "metadata": {},
   "outputs": [
    {
     "data": {
      "text/plain": [
       "Database(MongoClient(host=['localhost:27017'], document_class=dict, tz_aware=False, connect=True), 'mydatabase')"
      ]
     },
     "execution_count": 5,
     "metadata": {},
     "output_type": "execute_result"
    }
   ],
   "source": [
    "mydb"
   ]
  },
  {
   "cell_type": "code",
   "execution_count": 6,
   "metadata": {},
   "outputs": [
    {
     "name": "stdout",
     "output_type": "stream",
     "text": [
      "['admin', 'config', 'local']\n"
     ]
    }
   ],
   "source": [
    "# Listing all databases\n",
    "print(myclient.list_database_names())"
   ]
  },
  {
   "cell_type": "markdown",
   "metadata": {},
   "source": [
    "## Create Collection - Create Table"
   ]
  },
  {
   "cell_type": "code",
   "execution_count": 7,
   "metadata": {},
   "outputs": [],
   "source": [
    "mycol = mydb[\"customers\"]"
   ]
  },
  {
   "cell_type": "code",
   "execution_count": 8,
   "metadata": {},
   "outputs": [
    {
     "name": "stdout",
     "output_type": "stream",
     "text": [
      "[]\n"
     ]
    }
   ],
   "source": [
    "print(mydb.list_collection_names())"
   ]
  },
  {
   "cell_type": "markdown",
   "metadata": {},
   "source": [
    "## Insertion"
   ]
  },
  {
   "cell_type": "code",
   "execution_count": 67,
   "metadata": {},
   "outputs": [],
   "source": [
    "# Insert one document\n",
    "mydict = { \"name\": \"John\", \"address\": \"Highway 37\" }\n",
    "\n",
    "x = mycol.insert_one(mydict)"
   ]
  },
  {
   "cell_type": "code",
   "execution_count": 68,
   "metadata": {},
   "outputs": [
    {
     "name": "stdout",
     "output_type": "stream",
     "text": [
      "603b31a01ee1a5016a328edc\n"
     ]
    }
   ],
   "source": [
    "print(x.inserted_id)"
   ]
  },
  {
   "cell_type": "code",
   "execution_count": 79,
   "metadata": {},
   "outputs": [
    {
     "name": "stdout",
     "output_type": "stream",
     "text": [
      "['customers']\n",
      "['admin', 'config', 'local', 'mydatabase']\n"
     ]
    }
   ],
   "source": [
    "# Print List of Collections/Tables\n",
    "print(mydb.list_collection_names())\n",
    "print(myclient.list_database_names())"
   ]
  },
  {
   "cell_type": "code",
   "execution_count": 80,
   "metadata": {},
   "outputs": [],
   "source": [
    "# Insert multiple documents\n",
    "mylist = [\n",
    "  { \"name\": \"Amy\", \"address\": \"Apple st 652\"},\n",
    "  { \"name\": \"Hannah\", \"address\": \"Mountain 21\"},\n",
    "  { \"name\": \"Michael\", \"address\": \"Valley 345\"},\n",
    "  { \"name\": \"Sandy\", \"address\": \"Ocean blvd 2\"},\n",
    "  { \"name\": \"Betty\", \"address\": \"Green Grass 1\"},\n",
    "  { \"name\": \"Richard\", \"address\": \"Sky st 331\"},\n",
    "  { \"name\": \"Susan\", \"address\": \"One way 98\"},\n",
    "  { \"name\": \"Vicky\", \"address\": \"Yellow Garden 2\"},\n",
    "  { \"name\": \"Ben\", \"address\": \"Park Lane 38\"},\n",
    "  { \"name\": \"William\", \"address\": \"Central st 954\"},\n",
    "  { \"name\": \"Chuck\", \"address\": \"Main Road 989\"},\n",
    "  { \"name\": \"Viola\", \"address\": \"Sideway 1633\"}\n",
    "]\n",
    "\n",
    "x = mycol.insert_many(mylist)"
   ]
  },
  {
   "cell_type": "code",
   "execution_count": 81,
   "metadata": {},
   "outputs": [
    {
     "name": "stdout",
     "output_type": "stream",
     "text": [
      "[ObjectId('603b33091ee1a5016a328ee9'), ObjectId('603b33091ee1a5016a328eea'), ObjectId('603b33091ee1a5016a328eeb'), ObjectId('603b33091ee1a5016a328eec'), ObjectId('603b33091ee1a5016a328eed'), ObjectId('603b33091ee1a5016a328eee'), ObjectId('603b33091ee1a5016a328eef'), ObjectId('603b33091ee1a5016a328ef0'), ObjectId('603b33091ee1a5016a328ef1'), ObjectId('603b33091ee1a5016a328ef2'), ObjectId('603b33091ee1a5016a328ef3'), ObjectId('603b33091ee1a5016a328ef4')]\n"
     ]
    }
   ],
   "source": [
    "#print list of the _id values of the inserted documents:\n",
    "print(x.inserted_ids)"
   ]
  },
  {
   "cell_type": "code",
   "execution_count": 72,
   "metadata": {},
   "outputs": [
    {
     "data": {
      "text/plain": [
       "13"
      ]
     },
     "execution_count": 72,
     "metadata": {},
     "output_type": "execute_result"
    }
   ],
   "source": [
    "# Number of documents in a collection\n",
    "mycol.estimated_document_count()"
   ]
  },
  {
   "cell_type": "code",
   "execution_count": 73,
   "metadata": {},
   "outputs": [],
   "source": [
    "# Insert multiple documents with custom IDs.\n",
    "\n",
    "mylist = [\n",
    "  { \"_id\": 1, \"name\": \"John\", \"address\": \"Highway 37\"},\n",
    "  { \"_id\": 2, \"name\": \"Peter\", \"address\": \"Lowstreet 27\"},\n",
    "  { \"_id\": 3, \"name\": \"Amy\", \"address\": \"Apple st 652\"},\n",
    "  { \"_id\": 4, \"name\": \"Hannah\", \"address\": \"Mountain 21\"},\n",
    "  { \"_id\": 5, \"name\": \"Michael\", \"address\": \"Valley 345\"},\n",
    "  { \"_id\": 6, \"name\": \"Sandy\", \"address\": \"Ocean blvd 2\"},\n",
    "  { \"_id\": 7, \"name\": \"Betty\", \"address\": \"Green Grass 1\"},\n",
    "  { \"_id\": 8, \"name\": \"Richard\", \"address\": \"Sky st 331\"},\n",
    "  { \"_id\": 9, \"name\": \"Susan\", \"address\": \"One way 98\"},\n",
    "  { \"_id\": 10, \"name\": \"Vicky\", \"address\": \"Yellow Garden 2\"},\n",
    "  { \"_id\": 11, \"name\": \"Ben\", \"address\": \"Park Lane 38\"},\n",
    "  { \"_id\": 12, \"name\": \"William\", \"address\": \"Central st 954\"},\n",
    "  { \"_id\": 13, \"name\": \"Chuck\", \"address\": \"Main Road 989\"},\n",
    "  { \"_id\": 14, \"name\": \"Viola\", \"address\": \"Sideway 1633\"}\n",
    "]\n",
    "\n",
    "x = mycol.insert_many(mylist)"
   ]
  },
  {
   "cell_type": "code",
   "execution_count": 74,
   "metadata": {},
   "outputs": [
    {
     "name": "stdout",
     "output_type": "stream",
     "text": [
      "[1, 2, 3, 4, 5, 6, 7, 8, 9, 10, 11, 12, 13, 14]\n"
     ]
    }
   ],
   "source": [
    "#print list of the _id values of the inserted documents:\n",
    "print(x.inserted_ids)"
   ]
  },
  {
   "cell_type": "markdown",
   "metadata": {},
   "source": [
    "## Retrieve Data/Documents"
   ]
  },
  {
   "cell_type": "code",
   "execution_count": 36,
   "metadata": {},
   "outputs": [
    {
     "name": "stdout",
     "output_type": "stream",
     "text": [
      "{'_id': ObjectId('603a83611ee1a5016a328ecf'), 'name': 'John', 'address': 'Highway 37'}\n"
     ]
    }
   ],
   "source": [
    "# The find_one() method returns the first occurrence in the selection.\n",
    "x = mycol.find_one()\n",
    "print(x)"
   ]
  },
  {
   "cell_type": "code",
   "execution_count": 38,
   "metadata": {},
   "outputs": [
    {
     "data": {
      "text/plain": [
       "[{'_id': ObjectId('603a83611ee1a5016a328ecf'),\n",
       "  'name': 'John',\n",
       "  'address': 'Highway 37'},\n",
       " {'_id': ObjectId('603a83621ee1a5016a328ed0'),\n",
       "  'name': 'Amy',\n",
       "  'address': 'Apple st 652'},\n",
       " {'_id': ObjectId('603a83621ee1a5016a328ed1'),\n",
       "  'name': 'Hannah',\n",
       "  'address': 'Mountain 21'},\n",
       " {'_id': ObjectId('603a83621ee1a5016a328ed2'),\n",
       "  'name': 'Michael',\n",
       "  'address': 'Valley 345'},\n",
       " {'_id': ObjectId('603a83621ee1a5016a328ed3'),\n",
       "  'name': 'Sandy',\n",
       "  'address': 'Ocean blvd 2'},\n",
       " {'_id': ObjectId('603a83621ee1a5016a328ed4'),\n",
       "  'name': 'Betty',\n",
       "  'address': 'Green Grass 1'},\n",
       " {'_id': ObjectId('603a83621ee1a5016a328ed5'),\n",
       "  'name': 'Richard',\n",
       "  'address': 'Sky st 331'},\n",
       " {'_id': ObjectId('603a83621ee1a5016a328ed6'),\n",
       "  'name': 'Susan',\n",
       "  'address': 'One way 98'},\n",
       " {'_id': ObjectId('603a83621ee1a5016a328ed7'),\n",
       "  'name': 'Vicky',\n",
       "  'address': 'Yellow Garden 2'},\n",
       " {'_id': ObjectId('603a83621ee1a5016a328ed8'),\n",
       "  'name': 'Ben',\n",
       "  'address': 'Park Lane 38'},\n",
       " {'_id': ObjectId('603a83621ee1a5016a328ed9'),\n",
       "  'name': 'William',\n",
       "  'address': 'Central st 954'},\n",
       " {'_id': ObjectId('603a83621ee1a5016a328eda'),\n",
       "  'name': 'Chuck',\n",
       "  'address': 'Main Road 989'},\n",
       " {'_id': ObjectId('603a83621ee1a5016a328edb'),\n",
       "  'name': 'Viola',\n",
       "  'address': 'Sideway 1633'},\n",
       " {'_id': 1, 'name': 'John', 'address': 'Highway 37'},\n",
       " {'_id': 2, 'name': 'Peter', 'address': 'Lowstreet 27'},\n",
       " {'_id': 3, 'name': 'Amy', 'address': 'Apple st 652'},\n",
       " {'_id': 4, 'name': 'Hannah', 'address': 'Mountain 21'},\n",
       " {'_id': 5, 'name': 'Michael', 'address': 'Valley 345'},\n",
       " {'_id': 6, 'name': 'Sandy', 'address': 'Ocean blvd 2'},\n",
       " {'_id': 7, 'name': 'Betty', 'address': 'Green Grass 1'},\n",
       " {'_id': 8, 'name': 'Richard', 'address': 'Sky st 331'},\n",
       " {'_id': 9, 'name': 'Susan', 'address': 'One way 98'},\n",
       " {'_id': 10, 'name': 'Vicky', 'address': 'Yellow Garden 2'},\n",
       " {'_id': 11, 'name': 'Ben', 'address': 'Park Lane 38'},\n",
       " {'_id': 12, 'name': 'William', 'address': 'Central st 954'},\n",
       " {'_id': 13, 'name': 'Chuck', 'address': 'Main Road 989'},\n",
       " {'_id': 14, 'name': 'Viola', 'address': 'Sideway 1633'}]"
      ]
     },
     "execution_count": 38,
     "metadata": {},
     "output_type": "execute_result"
    }
   ],
   "source": [
    "x = mycol.find({})\n",
    "[row for row in x]"
   ]
  },
  {
   "cell_type": "code",
   "execution_count": 82,
   "metadata": {},
   "outputs": [
    {
     "data": {
      "text/plain": [
       "[{'name': 'John', 'address': 'Highway 37'},\n",
       " {'name': 'Amy', 'address': 'Apple st 652'},\n",
       " {'name': 'Hannah', 'address': 'Mountain 21'},\n",
       " {'name': 'Michael', 'address': 'Canyon 123'},\n",
       " {'name': 'Sandy', 'address': 'Ocean blvd 2'},\n",
       " {'name': 'Betty', 'address': 'Green Grass 1'},\n",
       " {'name': 'Minnie', 'address': 'Sky st 331'},\n",
       " {'name': 'Susan', 'address': 'One way 98'},\n",
       " {'name': 'Vicky', 'address': 'Yellow Garden 2'},\n",
       " {'name': 'Ben', 'address': 'Park Lane 38'},\n",
       " {'name': 'William', 'address': 'Central st 954'},\n",
       " {'name': 'Chuck', 'address': 'Main Road 989'},\n",
       " {'name': 'Minnie', 'address': 'Sideway 1633'},\n",
       " {'name': 'John', 'address': 'Highway 37'},\n",
       " {'name': 'Peter', 'address': 'Lowstreet 27'},\n",
       " {'name': 'Amy', 'address': 'Apple st 652'},\n",
       " {'name': 'Hannah', 'address': 'Mountain 21'},\n",
       " {'name': 'Michael', 'address': 'Valley 345'},\n",
       " {'name': 'Sandy', 'address': 'Ocean blvd 2'},\n",
       " {'name': 'Betty', 'address': 'Green Grass 1'},\n",
       " {'name': 'Minnie', 'address': 'Sky st 331'},\n",
       " {'name': 'Susan', 'address': 'One way 98'},\n",
       " {'name': 'Vicky', 'address': 'Yellow Garden 2'},\n",
       " {'name': 'Ben', 'address': 'Park Lane 38'},\n",
       " {'name': 'William', 'address': 'Central st 954'},\n",
       " {'name': 'Chuck', 'address': 'Main Road 989'},\n",
       " {'name': 'Minnie', 'address': 'Sideway 1633'},\n",
       " {'name': 'Amy', 'address': 'Apple st 652'},\n",
       " {'name': 'Hannah', 'address': 'Mountain 21'},\n",
       " {'name': 'Michael', 'address': 'Valley 345'},\n",
       " {'name': 'Sandy', 'address': 'Ocean blvd 2'},\n",
       " {'name': 'Betty', 'address': 'Green Grass 1'},\n",
       " {'name': 'Richard', 'address': 'Sky st 331'},\n",
       " {'name': 'Susan', 'address': 'One way 98'},\n",
       " {'name': 'Vicky', 'address': 'Yellow Garden 2'},\n",
       " {'name': 'Ben', 'address': 'Park Lane 38'},\n",
       " {'name': 'William', 'address': 'Central st 954'},\n",
       " {'name': 'Chuck', 'address': 'Main Road 989'},\n",
       " {'name': 'Viola', 'address': 'Sideway 1633'}]"
      ]
     },
     "execution_count": 82,
     "metadata": {},
     "output_type": "execute_result"
    }
   ],
   "source": [
    "# Include certain number of columns\n",
    "\n",
    "x = mycol.find({},{ \"_id\": 0, \"name\": 1, \"address\": 1 })\n",
    "[row for row in x]"
   ]
  },
  {
   "cell_type": "code",
   "execution_count": 83,
   "metadata": {},
   "outputs": [
    {
     "name": "stdout",
     "output_type": "stream",
     "text": [
      "{'_id': ObjectId('603b31a01ee1a5016a328edc'), 'name': 'John'}\n",
      "{'_id': ObjectId('603b31a61ee1a5016a328edd'), 'name': 'Amy'}\n",
      "{'_id': ObjectId('603b31a61ee1a5016a328ede'), 'name': 'Hannah'}\n",
      "{'_id': ObjectId('603b31a61ee1a5016a328edf'), 'name': 'Michael'}\n",
      "{'_id': ObjectId('603b31a61ee1a5016a328ee0'), 'name': 'Sandy'}\n",
      "{'_id': ObjectId('603b31a61ee1a5016a328ee1'), 'name': 'Betty'}\n",
      "{'_id': ObjectId('603b31a61ee1a5016a328ee2'), 'name': 'Minnie'}\n",
      "{'_id': ObjectId('603b31a61ee1a5016a328ee3'), 'name': 'Susan'}\n",
      "{'_id': ObjectId('603b31a61ee1a5016a328ee4'), 'name': 'Vicky'}\n",
      "{'_id': ObjectId('603b31a61ee1a5016a328ee5'), 'name': 'Ben'}\n",
      "{'_id': ObjectId('603b31a61ee1a5016a328ee6'), 'name': 'William'}\n",
      "{'_id': ObjectId('603b31a61ee1a5016a328ee7'), 'name': 'Chuck'}\n",
      "{'_id': ObjectId('603b31a61ee1a5016a328ee8'), 'name': 'Minnie'}\n",
      "{'_id': 1, 'name': 'John'}\n",
      "{'_id': 2, 'name': 'Peter'}\n",
      "{'_id': 3, 'name': 'Amy'}\n",
      "{'_id': 4, 'name': 'Hannah'}\n",
      "{'_id': 5, 'name': 'Michael'}\n",
      "{'_id': 6, 'name': 'Sandy'}\n",
      "{'_id': 7, 'name': 'Betty'}\n",
      "{'_id': 8, 'name': 'Minnie'}\n",
      "{'_id': 9, 'name': 'Susan'}\n",
      "{'_id': 10, 'name': 'Vicky'}\n",
      "{'_id': 11, 'name': 'Ben'}\n",
      "{'_id': 12, 'name': 'William'}\n",
      "{'_id': 13, 'name': 'Chuck'}\n",
      "{'_id': 14, 'name': 'Minnie'}\n",
      "{'_id': ObjectId('603b33091ee1a5016a328ee9'), 'name': 'Amy'}\n",
      "{'_id': ObjectId('603b33091ee1a5016a328eea'), 'name': 'Hannah'}\n",
      "{'_id': ObjectId('603b33091ee1a5016a328eeb'), 'name': 'Michael'}\n",
      "{'_id': ObjectId('603b33091ee1a5016a328eec'), 'name': 'Sandy'}\n",
      "{'_id': ObjectId('603b33091ee1a5016a328eed'), 'name': 'Betty'}\n",
      "{'_id': ObjectId('603b33091ee1a5016a328eee'), 'name': 'Richard'}\n",
      "{'_id': ObjectId('603b33091ee1a5016a328eef'), 'name': 'Susan'}\n",
      "{'_id': ObjectId('603b33091ee1a5016a328ef0'), 'name': 'Vicky'}\n",
      "{'_id': ObjectId('603b33091ee1a5016a328ef1'), 'name': 'Ben'}\n",
      "{'_id': ObjectId('603b33091ee1a5016a328ef2'), 'name': 'William'}\n",
      "{'_id': ObjectId('603b33091ee1a5016a328ef3'), 'name': 'Chuck'}\n",
      "{'_id': ObjectId('603b33091ee1a5016a328ef4'), 'name': 'Viola'}\n"
     ]
    }
   ],
   "source": [
    "# This will exclude only address\n",
    "for x in mycol.find({},{ \"address\": 0 }):\n",
    "  print(x)"
   ]
  },
  {
   "cell_type": "markdown",
   "metadata": {},
   "source": [
    "### You get an error if you specify both 0 and 1 values in the same object (except if one of the fields is the _id field):"
   ]
  },
  {
   "cell_type": "markdown",
   "metadata": {},
   "source": [
    "### Find documents on the base of conditions/queries"
   ]
  },
  {
   "cell_type": "code",
   "execution_count": 45,
   "metadata": {},
   "outputs": [
    {
     "name": "stdout",
     "output_type": "stream",
     "text": [
      "{'_id': ObjectId('603a83621ee1a5016a328ed8'), 'name': 'Ben', 'address': 'Park Lane 38'}\n",
      "{'_id': 11, 'name': 'Ben', 'address': 'Park Lane 38'}\n"
     ]
    }
   ],
   "source": [
    "# Find document(s) with the address \"Park Lane 38\"\n",
    "myquery = { \"address\": \"Park Lane 38\" }\n",
    "\n",
    "mydoc = mycol.find(myquery)\n",
    "\n",
    "for x in mydoc:\n",
    "  print(x)"
   ]
  },
  {
   "cell_type": "code",
   "execution_count": 47,
   "metadata": {},
   "outputs": [
    {
     "name": "stdout",
     "output_type": "stream",
     "text": [
      "{'_id': ObjectId('603a83621ee1a5016a328ed2'), 'name': 'Michael', 'address': 'Valley 345'}\n",
      "{'_id': ObjectId('603a83621ee1a5016a328ed5'), 'name': 'Richard', 'address': 'Sky st 331'}\n",
      "{'_id': ObjectId('603a83621ee1a5016a328ed7'), 'name': 'Vicky', 'address': 'Yellow Garden 2'}\n",
      "{'_id': ObjectId('603a83621ee1a5016a328edb'), 'name': 'Viola', 'address': 'Sideway 1633'}\n",
      "{'_id': 5, 'name': 'Michael', 'address': 'Valley 345'}\n",
      "{'_id': 8, 'name': 'Richard', 'address': 'Sky st 331'}\n",
      "{'_id': 10, 'name': 'Vicky', 'address': 'Yellow Garden 2'}\n",
      "{'_id': 14, 'name': 'Viola', 'address': 'Sideway 1633'}\n"
     ]
    }
   ],
   "source": [
    "# Find documents where the address starts with the letter \"S\" or higher\n",
    "myquery = { \"address\": { \"$gt\": \"S\" } }\n",
    "\n",
    "mydoc = mycol.find(myquery)\n",
    "\n",
    "for x in mydoc:\n",
    "  print(x)"
   ]
  },
  {
   "cell_type": "code",
   "execution_count": 48,
   "metadata": {},
   "outputs": [
    {
     "name": "stdout",
     "output_type": "stream",
     "text": [
      "{'_id': ObjectId('603a83621ee1a5016a328ed5'), 'name': 'Richard', 'address': 'Sky st 331'}\n",
      "{'_id': ObjectId('603a83621ee1a5016a328edb'), 'name': 'Viola', 'address': 'Sideway 1633'}\n",
      "{'_id': 8, 'name': 'Richard', 'address': 'Sky st 331'}\n",
      "{'_id': 14, 'name': 'Viola', 'address': 'Sideway 1633'}\n"
     ]
    }
   ],
   "source": [
    "# Query using Regular Expression\n",
    "myquery = { \"address\": { \"$regex\": \"^S\" } }\n",
    "\n",
    "mydoc = mycol.find(myquery)\n",
    "\n",
    "for x in mydoc:\n",
    "  print(x)"
   ]
  },
  {
   "cell_type": "markdown",
   "metadata": {},
   "source": [
    "## Sort Results"
   ]
  },
  {
   "cell_type": "code",
   "execution_count": 49,
   "metadata": {},
   "outputs": [
    {
     "name": "stdout",
     "output_type": "stream",
     "text": [
      "{'_id': ObjectId('603a83621ee1a5016a328ed0'), 'name': 'Amy', 'address': 'Apple st 652'}\n",
      "{'_id': 3, 'name': 'Amy', 'address': 'Apple st 652'}\n",
      "{'_id': ObjectId('603a83621ee1a5016a328ed8'), 'name': 'Ben', 'address': 'Park Lane 38'}\n",
      "{'_id': 11, 'name': 'Ben', 'address': 'Park Lane 38'}\n",
      "{'_id': ObjectId('603a83621ee1a5016a328ed4'), 'name': 'Betty', 'address': 'Green Grass 1'}\n",
      "{'_id': 7, 'name': 'Betty', 'address': 'Green Grass 1'}\n",
      "{'_id': ObjectId('603a83621ee1a5016a328eda'), 'name': 'Chuck', 'address': 'Main Road 989'}\n",
      "{'_id': 13, 'name': 'Chuck', 'address': 'Main Road 989'}\n",
      "{'_id': ObjectId('603a83621ee1a5016a328ed1'), 'name': 'Hannah', 'address': 'Mountain 21'}\n",
      "{'_id': 4, 'name': 'Hannah', 'address': 'Mountain 21'}\n",
      "{'_id': ObjectId('603a83611ee1a5016a328ecf'), 'name': 'John', 'address': 'Highway 37'}\n",
      "{'_id': 1, 'name': 'John', 'address': 'Highway 37'}\n",
      "{'_id': ObjectId('603a83621ee1a5016a328ed2'), 'name': 'Michael', 'address': 'Valley 345'}\n",
      "{'_id': 5, 'name': 'Michael', 'address': 'Valley 345'}\n",
      "{'_id': 2, 'name': 'Peter', 'address': 'Lowstreet 27'}\n",
      "{'_id': ObjectId('603a83621ee1a5016a328ed5'), 'name': 'Richard', 'address': 'Sky st 331'}\n",
      "{'_id': 8, 'name': 'Richard', 'address': 'Sky st 331'}\n",
      "{'_id': ObjectId('603a83621ee1a5016a328ed3'), 'name': 'Sandy', 'address': 'Ocean blvd 2'}\n",
      "{'_id': 6, 'name': 'Sandy', 'address': 'Ocean blvd 2'}\n",
      "{'_id': ObjectId('603a83621ee1a5016a328ed6'), 'name': 'Susan', 'address': 'One way 98'}\n",
      "{'_id': 9, 'name': 'Susan', 'address': 'One way 98'}\n",
      "{'_id': ObjectId('603a83621ee1a5016a328ed7'), 'name': 'Vicky', 'address': 'Yellow Garden 2'}\n",
      "{'_id': 10, 'name': 'Vicky', 'address': 'Yellow Garden 2'}\n",
      "{'_id': ObjectId('603a83621ee1a5016a328edb'), 'name': 'Viola', 'address': 'Sideway 1633'}\n",
      "{'_id': 14, 'name': 'Viola', 'address': 'Sideway 1633'}\n",
      "{'_id': ObjectId('603a83621ee1a5016a328ed9'), 'name': 'William', 'address': 'Central st 954'}\n",
      "{'_id': 12, 'name': 'William', 'address': 'Central st 954'}\n"
     ]
    }
   ],
   "source": [
    "# Sort by ascending order\n",
    "mydoc = mycol.find().sort(\"name\")\n",
    "\n",
    "for x in mydoc:\n",
    "  print(x)"
   ]
  },
  {
   "cell_type": "markdown",
   "metadata": {},
   "source": [
    "### sort(\"name\", 1) #ascending\n",
    "### sort(\"name\", -1) #descending"
   ]
  },
  {
   "cell_type": "code",
   "execution_count": 50,
   "metadata": {},
   "outputs": [
    {
     "name": "stdout",
     "output_type": "stream",
     "text": [
      "{'_id': ObjectId('603a83621ee1a5016a328ed9'), 'name': 'William', 'address': 'Central st 954'}\n",
      "{'_id': 12, 'name': 'William', 'address': 'Central st 954'}\n",
      "{'_id': ObjectId('603a83621ee1a5016a328edb'), 'name': 'Viola', 'address': 'Sideway 1633'}\n",
      "{'_id': 14, 'name': 'Viola', 'address': 'Sideway 1633'}\n",
      "{'_id': ObjectId('603a83621ee1a5016a328ed7'), 'name': 'Vicky', 'address': 'Yellow Garden 2'}\n",
      "{'_id': 10, 'name': 'Vicky', 'address': 'Yellow Garden 2'}\n",
      "{'_id': ObjectId('603a83621ee1a5016a328ed6'), 'name': 'Susan', 'address': 'One way 98'}\n",
      "{'_id': 9, 'name': 'Susan', 'address': 'One way 98'}\n",
      "{'_id': ObjectId('603a83621ee1a5016a328ed3'), 'name': 'Sandy', 'address': 'Ocean blvd 2'}\n",
      "{'_id': 6, 'name': 'Sandy', 'address': 'Ocean blvd 2'}\n",
      "{'_id': ObjectId('603a83621ee1a5016a328ed5'), 'name': 'Richard', 'address': 'Sky st 331'}\n",
      "{'_id': 8, 'name': 'Richard', 'address': 'Sky st 331'}\n",
      "{'_id': 2, 'name': 'Peter', 'address': 'Lowstreet 27'}\n",
      "{'_id': ObjectId('603a83621ee1a5016a328ed2'), 'name': 'Michael', 'address': 'Valley 345'}\n",
      "{'_id': 5, 'name': 'Michael', 'address': 'Valley 345'}\n",
      "{'_id': ObjectId('603a83611ee1a5016a328ecf'), 'name': 'John', 'address': 'Highway 37'}\n",
      "{'_id': 1, 'name': 'John', 'address': 'Highway 37'}\n",
      "{'_id': ObjectId('603a83621ee1a5016a328ed1'), 'name': 'Hannah', 'address': 'Mountain 21'}\n",
      "{'_id': 4, 'name': 'Hannah', 'address': 'Mountain 21'}\n",
      "{'_id': ObjectId('603a83621ee1a5016a328eda'), 'name': 'Chuck', 'address': 'Main Road 989'}\n",
      "{'_id': 13, 'name': 'Chuck', 'address': 'Main Road 989'}\n",
      "{'_id': ObjectId('603a83621ee1a5016a328ed4'), 'name': 'Betty', 'address': 'Green Grass 1'}\n",
      "{'_id': 7, 'name': 'Betty', 'address': 'Green Grass 1'}\n",
      "{'_id': ObjectId('603a83621ee1a5016a328ed8'), 'name': 'Ben', 'address': 'Park Lane 38'}\n",
      "{'_id': 11, 'name': 'Ben', 'address': 'Park Lane 38'}\n",
      "{'_id': ObjectId('603a83621ee1a5016a328ed0'), 'name': 'Amy', 'address': 'Apple st 652'}\n",
      "{'_id': 3, 'name': 'Amy', 'address': 'Apple st 652'}\n"
     ]
    }
   ],
   "source": [
    "mydoc = mycol.find().sort(\"name\", -1)\n",
    "\n",
    "for x in mydoc:\n",
    "  print(x)"
   ]
  },
  {
   "cell_type": "markdown",
   "metadata": {},
   "source": [
    "## Delete documents"
   ]
  },
  {
   "cell_type": "code",
   "execution_count": 54,
   "metadata": {},
   "outputs": [
    {
     "data": {
      "text/plain": [
       "<pymongo.results.DeleteResult at 0x7f2e9c4a80c0>"
      ]
     },
     "execution_count": 54,
     "metadata": {},
     "output_type": "execute_result"
    }
   ],
   "source": [
    "# Delete the document with the address \"Mountain 21\"\n",
    "\n",
    "myquery = { \"address\": \"Apple st 652\" }\n",
    "\n",
    "mycol.delete_one(myquery)"
   ]
  },
  {
   "cell_type": "code",
   "execution_count": 60,
   "metadata": {},
   "outputs": [
    {
     "name": "stdout",
     "output_type": "stream",
     "text": [
      "4  documents deleted.\n"
     ]
    }
   ],
   "source": [
    "# Delete all documents were the address starts with the letter S\n",
    "myquery = { \"address\": {\"$regex\": \"^S\"} }\n",
    "\n",
    "x = mycol.delete_many(myquery)\n",
    "\n",
    "print(x.deleted_count, \" documents deleted.\")"
   ]
  },
  {
   "cell_type": "code",
   "execution_count": 63,
   "metadata": {},
   "outputs": [
    {
     "name": "stdout",
     "output_type": "stream",
     "text": [
      "21  documents deleted.\n"
     ]
    }
   ],
   "source": [
    "# Delete all documents in a collection\n",
    "\n",
    "x = mycol.delete_many({})\n",
    "\n",
    "print(x.deleted_count, \" documents deleted.\")"
   ]
  },
  {
   "cell_type": "markdown",
   "metadata": {},
   "source": [
    "## Delete Collection"
   ]
  },
  {
   "cell_type": "code",
   "execution_count": 84,
   "metadata": {},
   "outputs": [],
   "source": [
    "# Delete a collection\n",
    "mycol.drop()"
   ]
  },
  {
   "cell_type": "markdown",
   "metadata": {},
   "source": [
    "## Update Collection"
   ]
  },
  {
   "cell_type": "code",
   "execution_count": 75,
   "metadata": {},
   "outputs": [
    {
     "name": "stdout",
     "output_type": "stream",
     "text": [
      "{'_id': ObjectId('603b31a01ee1a5016a328edc'), 'name': 'John', 'address': 'Highway 37'}\n",
      "{'_id': ObjectId('603b31a61ee1a5016a328edd'), 'name': 'Amy', 'address': 'Apple st 652'}\n",
      "{'_id': ObjectId('603b31a61ee1a5016a328ede'), 'name': 'Hannah', 'address': 'Mountain 21'}\n",
      "{'_id': ObjectId('603b31a61ee1a5016a328edf'), 'name': 'Michael', 'address': 'Canyon 123'}\n",
      "{'_id': ObjectId('603b31a61ee1a5016a328ee0'), 'name': 'Sandy', 'address': 'Ocean blvd 2'}\n",
      "{'_id': ObjectId('603b31a61ee1a5016a328ee1'), 'name': 'Betty', 'address': 'Green Grass 1'}\n",
      "{'_id': ObjectId('603b31a61ee1a5016a328ee2'), 'name': 'Richard', 'address': 'Sky st 331'}\n",
      "{'_id': ObjectId('603b31a61ee1a5016a328ee3'), 'name': 'Susan', 'address': 'One way 98'}\n",
      "{'_id': ObjectId('603b31a61ee1a5016a328ee4'), 'name': 'Vicky', 'address': 'Yellow Garden 2'}\n",
      "{'_id': ObjectId('603b31a61ee1a5016a328ee5'), 'name': 'Ben', 'address': 'Park Lane 38'}\n",
      "{'_id': ObjectId('603b31a61ee1a5016a328ee6'), 'name': 'William', 'address': 'Central st 954'}\n",
      "{'_id': ObjectId('603b31a61ee1a5016a328ee7'), 'name': 'Chuck', 'address': 'Main Road 989'}\n",
      "{'_id': ObjectId('603b31a61ee1a5016a328ee8'), 'name': 'Viola', 'address': 'Sideway 1633'}\n",
      "{'_id': 1, 'name': 'John', 'address': 'Highway 37'}\n",
      "{'_id': 2, 'name': 'Peter', 'address': 'Lowstreet 27'}\n",
      "{'_id': 3, 'name': 'Amy', 'address': 'Apple st 652'}\n",
      "{'_id': 4, 'name': 'Hannah', 'address': 'Mountain 21'}\n",
      "{'_id': 5, 'name': 'Michael', 'address': 'Valley 345'}\n",
      "{'_id': 6, 'name': 'Sandy', 'address': 'Ocean blvd 2'}\n",
      "{'_id': 7, 'name': 'Betty', 'address': 'Green Grass 1'}\n",
      "{'_id': 8, 'name': 'Richard', 'address': 'Sky st 331'}\n",
      "{'_id': 9, 'name': 'Susan', 'address': 'One way 98'}\n",
      "{'_id': 10, 'name': 'Vicky', 'address': 'Yellow Garden 2'}\n",
      "{'_id': 11, 'name': 'Ben', 'address': 'Park Lane 38'}\n",
      "{'_id': 12, 'name': 'William', 'address': 'Central st 954'}\n",
      "{'_id': 13, 'name': 'Chuck', 'address': 'Main Road 989'}\n",
      "{'_id': 14, 'name': 'Viola', 'address': 'Sideway 1633'}\n"
     ]
    }
   ],
   "source": [
    "# I update_one, If the query finds more than one record, only the first occurrence is updated.\n",
    "myquery = { \"address\": \"Valley 345\" }\n",
    "newvalues = { \"$set\": { \"address\": \"Canyon 123\" } }\n",
    "\n",
    "mycol.update_one(myquery, newvalues)\n",
    "\n",
    "#print \"customers\" after the update:\n",
    "for x in mycol.find():\n",
    "  print(x)"
   ]
  },
  {
   "cell_type": "code",
   "execution_count": 76,
   "metadata": {},
   "outputs": [
    {
     "name": "stdout",
     "output_type": "stream",
     "text": [
      "4 documents updated.\n"
     ]
    }
   ],
   "source": [
    "# To update all documents that meets the criteria of the query, use the update_many() method.\n",
    "# Update all documents where the address starts with the letter \"S\"\n",
    "\n",
    "myquery = { \"address\": { \"$regex\": \"^S\" } }\n",
    "newvalues = { \"$set\": { \"name\": \"Minnie\" } }\n",
    "\n",
    "x = mycol.update_many(myquery, newvalues)\n",
    "\n",
    "print(x.modified_count, \"documents updated.\")"
   ]
  },
  {
   "cell_type": "markdown",
   "metadata": {},
   "source": [
    "## Limit() Records/Documents"
   ]
  },
  {
   "cell_type": "code",
   "execution_count": 78,
   "metadata": {},
   "outputs": [
    {
     "name": "stdout",
     "output_type": "stream",
     "text": [
      "{'_id': ObjectId('603b31a01ee1a5016a328edc'), 'name': 'John', 'address': 'Highway 37'}\n",
      "{'_id': ObjectId('603b31a61ee1a5016a328edd'), 'name': 'Amy', 'address': 'Apple st 652'}\n",
      "{'_id': ObjectId('603b31a61ee1a5016a328ede'), 'name': 'Hannah', 'address': 'Mountain 21'}\n",
      "{'_id': ObjectId('603b31a61ee1a5016a328edf'), 'name': 'Michael', 'address': 'Canyon 123'}\n",
      "{'_id': ObjectId('603b31a61ee1a5016a328ee0'), 'name': 'Sandy', 'address': 'Ocean blvd 2'}\n"
     ]
    }
   ],
   "source": [
    "# The limit() method takes one parameter, a number defining how many documents to return.\n",
    "myresult = mycol.find().limit(5)\n",
    "\n",
    "#print the result:\n",
    "for x in myresult:\n",
    "  print(x)"
   ]
  },
  {
   "cell_type": "markdown",
   "metadata": {},
   "source": [
    "## Aggregation"
   ]
  },
  {
   "attachments": {
    "image.png": {
     "image/png": "[encoded data removed]"
    }
   },
   "cell_type": "markdown",
   "metadata": {},
   "source": [
    "#### Syntax\n",
    "\n",
    "![image.png](attachment:image.png)"
   ]
  },
  {
   "cell_type": "code",
   "execution_count": 110,
   "metadata": {},
   "outputs": [],
   "source": [
    "mydb = myclient[\"mydatabase\"]\n",
    "mycol = mydb[\"customers\"]"
   ]
  },
  {
   "cell_type": "code",
   "execution_count": 111,
   "metadata": {},
   "outputs": [],
   "source": [
    "# Insert multiple documents with custom IDs.\n",
    "\n",
    "mylist = [\n",
    "  { \"_id\": 1, \"name\": \"John\", \"address\": \"Highway 37\", \"rating\": \"A\"},\n",
    "  { \"_id\": 2, \"name\": \"Peter\", \"address\": \"Lowstreet 27\", \"rating\": \"B\"},\n",
    "  { \"_id\": 3, \"name\": \"Amy\", \"address\": \"Apple st 652\", \"rating\": \"C\"},\n",
    "  { \"_id\": 4, \"name\": \"Hannah\", \"address\": \"Mountain 21\", \"rating\": \"A\"},\n",
    "  { \"_id\": 5, \"name\": \"Michael\", \"address\": \"Valley 345\", \"rating\": \"B\"},\n",
    "  { \"_id\": 6, \"name\": \"Sandy\", \"address\": \"Ocean blvd 2\", \"rating\": \"C\"},\n",
    "  { \"_id\": 7, \"name\": \"Betty\", \"address\": \"Green Grass 1\", \"rating\": \"A\"},\n",
    "  { \"_id\": 8, \"name\": \"Richard\", \"address\": \"Sky st 331\", \"rating\": \"A\"},\n",
    "  { \"_id\": 9, \"name\": \"Susan\", \"address\": \"One way 98\", \"rating\": \"B\"},\n",
    "  { \"_id\": 10, \"name\": \"Vicky\", \"address\": \"Yellow Garden 2\", \"rating\": \"C\"},\n",
    "  { \"_id\": 11, \"name\": \"Ben\", \"address\": \"Park Lane 38\", \"rating\": \"A\"},\n",
    "  { \"_id\": 12, \"name\": \"William\", \"address\": \"Central st 954\", \"rating\": \"B\"},\n",
    "  { \"_id\": 13, \"name\": \"Chuck\", \"address\": \"Main Road 989\", \"rating\": \"C\"},\n",
    "  { \"_id\": 14, \"name\": \"Viola\", \"address\": \"Sideway 1633\", \"rating\": \"D\"}\n",
    "]\n",
    "\n",
    "x = mycol.insert_many(mylist)"
   ]
  },
  {
   "cell_type": "code",
   "execution_count": 112,
   "metadata": {},
   "outputs": [
    {
     "data": {
      "text/plain": [
       "[{'_id': 1, 'name': 'John', 'address': 'Highway 37', 'rating': 'A'},\n",
       " {'_id': 2, 'name': 'Peter', 'address': 'Lowstreet 27', 'rating': 'B'},\n",
       " {'_id': 3, 'name': 'Amy', 'address': 'Apple st 652', 'rating': 'C'},\n",
       " {'_id': 4, 'name': 'Hannah', 'address': 'Mountain 21', 'rating': 'A'},\n",
       " {'_id': 5, 'name': 'Michael', 'address': 'Valley 345', 'rating': 'B'},\n",
       " {'_id': 6, 'name': 'Sandy', 'address': 'Ocean blvd 2', 'rating': 'C'},\n",
       " {'_id': 7, 'name': 'Betty', 'address': 'Green Grass 1', 'rating': 'A'},\n",
       " {'_id': 8, 'name': 'Richard', 'address': 'Sky st 331', 'rating': 'A'},\n",
       " {'_id': 9, 'name': 'Susan', 'address': 'One way 98', 'rating': 'B'},\n",
       " {'_id': 10, 'name': 'Vicky', 'address': 'Yellow Garden 2', 'rating': 'C'},\n",
       " {'_id': 11, 'name': 'Ben', 'address': 'Park Lane 38', 'rating': 'A'},\n",
       " {'_id': 12, 'name': 'William', 'address': 'Central st 954', 'rating': 'B'},\n",
       " {'_id': 13, 'name': 'Chuck', 'address': 'Main Road 989', 'rating': 'C'},\n",
       " {'_id': 14, 'name': 'Viola', 'address': 'Sideway 1633', 'rating': 'D'}]"
      ]
     },
     "execution_count": 112,
     "metadata": {},
     "output_type": "execute_result"
    }
   ],
   "source": [
    "[i for i in mycol.find({})]"
   ]
  },
  {
   "cell_type": "code",
   "execution_count": 128,
   "metadata": {},
   "outputs": [],
   "source": [
    "pipeline = [\n",
    "    # first stage\n",
    "    { '$group':\n",
    "        {'_id': \"$rating\",\n",
    "         \"count\" : { '$sum' :1 }\n",
    "        }\n",
    "    },\n",
    "    # second stage\n",
    "    {\"$sort\":  \n",
    "         {\"_id\":-1}\n",
    "    }\n",
    "]"
   ]
  },
  {
   "cell_type": "code",
   "execution_count": 129,
   "metadata": {},
   "outputs": [],
   "source": [
    "results = mycol.aggregate(pipeline)"
   ]
  },
  {
   "cell_type": "code",
   "execution_count": 130,
   "metadata": {},
   "outputs": [
    {
     "name": "stdout",
     "output_type": "stream",
     "text": [
      "{'_id': 'D', 'count': 1},{'_id': 'C', 'count': 4},{'_id': 'B', 'count': 4},{'_id': 'A', 'count': 5},"
     ]
    }
   ],
   "source": [
    "for result in results:\n",
    "    print(result, end=\",\")"
   ]
  },
  {
   "cell_type": "markdown",
   "metadata": {},
   "source": [
    "## Save Images in base64 format"
   ]
  },
  {
   "cell_type": "markdown",
   "metadata": {},
   "source": [
    "#### As long as the document doesn't exceed 16MB standard bson is fine, otherwise gridfs should be used."
   ]
  },
  {
   "cell_type": "code",
   "execution_count": 16,
   "metadata": {},
   "outputs": [],
   "source": [
    "from PIL import Image\n",
    "from bson.objectid import ObjectId\n",
    "import io\n",
    "from matplotlib import pyplot as plt"
   ]
  },
  {
   "cell_type": "code",
   "execution_count": 134,
   "metadata": {},
   "outputs": [],
   "source": [
    "im = Image.open(\"image.jpg\")\n",
    "\n",
    "image_bytes = io.BytesIO()\n",
    "im.save(image_bytes, format='JPEG')\n",
    "\n",
    "image = {\n",
    "    'data': image_bytes.getvalue()\n",
    "}"
   ]
  },
  {
   "cell_type": "code",
   "execution_count": 135,
   "metadata": {},
   "outputs": [
    {
     "data": {
      "text/plain": [
       "<pymongo.results.InsertOneResult at 0x7f2e5dae5d80>"
      ]
     },
     "execution_count": 135,
     "metadata": {},
     "output_type": "execute_result"
    }
   ],
   "source": [
    "mycol.insert_one(image)"
   ]
  },
  {
   "cell_type": "code",
   "execution_count": 17,
   "metadata": {},
   "outputs": [],
   "source": [
    "#ObjectId('603b662d1ee1a5016a328f03')\n",
    "x = [i for i in mycol.find({\"_id\": ObjectId(\"603b662d1ee1a5016a328f03\")})]\n",
    "r_image = x[0]['data']"
   ]
  },
  {
   "cell_type": "code",
   "execution_count": 18,
   "metadata": {},
   "outputs": [
    {
     "data": {
      "image/png": "[encoded data removed]",
      "text/plain": [
       "<Figure size 432x288 with 1 Axes>"
      ]
     },
     "metadata": {
      "needs_background": "light"
     },
     "output_type": "display_data"
    }
   ],
   "source": [
    "pil_img = Image.open(io.BytesIO(r_image))\n",
    "plt.imshow(pil_img)\n",
    "plt.show()"
   ]
  },
  {
   "cell_type": "code",
   "execution_count": null,
   "metadata": {},
   "outputs": [],
   "source": []
  }
 ],
 "metadata": {
  "kernelspec": {
   "display_name": "Python 3",
   "language": "python",
   "name": "python3"
  },
  "language_info": {
   "codemirror_mode": {
    "name": "ipython",
    "version": 3
   },
   "file_extension": ".py",
   "mimetype": "text/x-python",
   "name": "python",
   "nbconvert_exporter": "python",
   "pygments_lexer": "ipython3",
   "version": "3.7.8"
  }
 },
 "nbformat": 4,
 "nbformat_minor": 5
}
