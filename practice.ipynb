{
 "cells": [
  {
   "cell_type": "code",
   "execution_count": 4,
   "metadata": {},
   "outputs": [],
   "source": [
    "import pymongo\n",
    "from PIL import Image\n",
    "from bson.objectid import ObjectId\n",
    "import io\n",
    "from matplotlib import pyplot as plt\n",
    "import json"
   ]
  },
  {
   "cell_type": "markdown",
   "metadata": {},
   "source": [
    "## New"
   ]
  },
  {
   "cell_type": "code",
   "execution_count": 3,
   "metadata": {},
   "outputs": [],
   "source": [
    "myclient = pymongo.MongoClient(\"mongodb://localhost:27017/\")\n",
    "db = myclient[\"mydb\"]\n",
    "annotations = db[\"annotations\"]"
   ]
  },
  {
   "cell_type": "code",
   "execution_count": 36,
   "metadata": {},
   "outputs": [],
   "source": [
    "lst = [[0.3,0.35],[0.2,0.9],[0.08,0.3],[0.76,0.2],[0.01,0.02],[0.6,0.7],[0.2,0.4]]\n",
    "lst2 = ['pakistan_design_1,usa_design2','usa_design2,pakistan_design_1','bahrain_design1,pakistan_design_1',\n",
    "        'india_design3,pakistan_design_1','peeru_design2,pakistan_design_1','pakistan_design2,pakistan_design_1',\n",
    "        'usa_design5,pakistan_design_2']\n",
    "\n",
    "dict_list = []\n",
    "pakistan_design1 = {}\n",
    "\n",
    "for l1,l2 in zip(lst,lst2):\n",
    "    with open(\"via_project_21Apr2021_19h56m.json\", \"r\") as file:\n",
    "        val = json.load(file)\n",
    "        val['_via_img_metadata']['annot'] = l2\n",
    "        val['_via_img_metadata']['conf'] = l1\n",
    "        dict_list.append(val)\n",
    "        \n",
    "pakistan_design1[\"myvals\"] = dict_list"
   ]
  },
  {
   "cell_type": "code",
   "execution_count": 37,
   "metadata": {
    "scrolled": true
   },
   "outputs": [
    {
     "data": {
      "text/plain": [
       "<pymongo.results.InsertOneResult at 0x1ddffd60648>"
      ]
     },
     "execution_count": 37,
     "metadata": {},
     "output_type": "execute_result"
    }
   ],
   "source": [
    "annotations.insert_one(pakistan_design1)"
   ]
  },
  {
   "cell_type": "code",
   "execution_count": 44,
   "metadata": {},
   "outputs": [
    {
     "data": {
      "text/plain": [
       "[]"
      ]
     },
     "execution_count": 44,
     "metadata": {},
     "output_type": "execute_result"
    }
   ],
   "source": [
    "query = { \"myvals\": 1 }\n",
    "results = annotations.find(query)\n",
    "[i for i in results]"
   ]
  },
  {
   "cell_type": "markdown",
   "metadata": {},
   "source": [
    "## OLD"
   ]
  },
  {
   "cell_type": "code",
   "execution_count": 18,
   "metadata": {},
   "outputs": [],
   "source": [
    "myclient = pymongo.MongoClient(\"mongodb://localhost:27017/\")\n",
    "db = myclient[\"mydb\"]\n",
    "subjects = db[\"subjects\"]"
   ]
  },
  {
   "cell_type": "code",
   "execution_count": 19,
   "metadata": {},
   "outputs": [],
   "source": [
    "# Insert one document\n",
    "mydict = { \"name\": \"Intro to Programming\", \"teacher\": \"ABC\" }\n",
    "x = subjects.insert_one(mydict)"
   ]
  },
  {
   "cell_type": "code",
   "execution_count": 20,
   "metadata": {},
   "outputs": [
    {
     "data": {
      "text/plain": [
       "ObjectId('6085485f0f001298d324613f')"
      ]
     },
     "execution_count": 20,
     "metadata": {},
     "output_type": "execute_result"
    }
   ],
   "source": [
    "x.inserted_id"
   ]
  },
  {
   "cell_type": "code",
   "execution_count": 21,
   "metadata": {},
   "outputs": [
    {
     "data": {
      "text/plain": [
       "[ObjectId('608548600f001298d3246140'), ObjectId('608548600f001298d3246141')]"
      ]
     },
     "execution_count": 21,
     "metadata": {},
     "output_type": "execute_result"
    }
   ],
   "source": [
    "# Insert multiple documents\n",
    "mylist = [\n",
    "  { \"name\": \"OOP\", \"teacher\": \"Ustad Nauman\", \"student_list\":[\n",
    "      {\"name\": \"Hussam\", \"grade\": 70},\n",
    "      {\"name\": \"Usman\", \"grade\": 20, \"properties\":[2,4,6,8]},\n",
    "      {\"name\": \"Ahmed\", \"grade\": 90}\n",
    "  ]},\n",
    "  { \"name\": \"Data Structures\", \"teacher\": \"Imran Khan\"},\n",
    "]\n",
    "\n",
    "x = subjects.insert_many(mylist)\n",
    "x.inserted_ids"
   ]
  },
  {
   "cell_type": "code",
   "execution_count": 22,
   "metadata": {},
   "outputs": [
    {
     "data": {
      "text/plain": [
       "3"
      ]
     },
     "execution_count": 22,
     "metadata": {},
     "output_type": "execute_result"
    }
   ],
   "source": [
    "# Number of documents in a collection\n",
    "subjects.estimated_document_count()"
   ]
  },
  {
   "cell_type": "code",
   "execution_count": 23,
   "metadata": {},
   "outputs": [
    {
     "name": "stdout",
     "output_type": "stream",
     "text": [
      "{'_id': ObjectId('6085485f0f001298d324613f'), 'name': 'Intro to Programming', 'teacher': 'ABC'}\n"
     ]
    }
   ],
   "source": [
    "# The find_one() method returns the first occurrence in the selection.\n",
    "x = subjects.find_one()\n",
    "print(x)"
   ]
  },
  {
   "cell_type": "code",
   "execution_count": 53,
   "metadata": {},
   "outputs": [
    {
     "data": {
      "text/plain": [
       "[{'_id': ObjectId('6085485f0f001298d324613f'),\n",
       "  'name': 'Intro to Programming',\n",
       "  'teacher': 'ABC'},\n",
       " {'_id': ObjectId('608548600f001298d3246140'),\n",
       "  'name': 'OOP',\n",
       "  'teacher': 'Ustad Nauman',\n",
       "  'student_list': [{'name': 'Hussam', 'grade': 70},\n",
       "   {'name': 'Usman', 'grade': 20, 'properties': [2, 4, 6, 8]},\n",
       "   {'name': 'Ahmed', 'grade': 90}]},\n",
       " {'_id': ObjectId('608548600f001298d3246141'),\n",
       "  'name': 'Data Structures',\n",
       "  'teacher': 'Imran Khan'}]"
      ]
     },
     "execution_count": 53,
     "metadata": {},
     "output_type": "execute_result"
    }
   ],
   "source": [
    "x = subjects.find({})\n",
    "[row for row in x]"
   ]
  },
  {
   "cell_type": "code",
   "execution_count": 31,
   "metadata": {},
   "outputs": [
    {
     "data": {
      "text/plain": [
       "[{'name': 'Intro to Programming', 'teacher': 'ABC'},\n",
       " {'name': 'OOP', 'teacher': 'Ustad Nauman'},\n",
       " {'name': 'Data Structures', 'teacher': 'Imran Khan'}]"
      ]
     },
     "execution_count": 31,
     "metadata": {},
     "output_type": "execute_result"
    }
   ],
   "source": [
    "x = subjects.find({},{ \"_id\": 0, \"teacher\": 1,\"name\": 1})\n",
    "[row for row in x]"
   ]
  },
  {
   "cell_type": "code",
   "execution_count": 47,
   "metadata": {},
   "outputs": [
    {
     "name": "stdout",
     "output_type": "stream",
     "text": [
      "[2, 4, 6, 8]\n"
     ]
    }
   ],
   "source": [
    "# Find document(s) with the address \"Park Lane 38\"\n",
    "myquery = { \"_id\": ObjectId('608548600f001298d3246140') }\n",
    "\n",
    "mydoc = subjects.find(myquery)\n",
    "\n",
    "# for x in mydoc:\n",
    "#     print(x)\n",
    "dic = mydoc.next()\n",
    "print(dic['student_list'][1]['properties'])"
   ]
  },
  {
   "cell_type": "code",
   "execution_count": null,
   "metadata": {},
   "outputs": [],
   "source": []
  }
 ],
 "metadata": {
  "kernelspec": {
   "display_name": "Python 3",
   "language": "python",
   "name": "python3"
  },
  "language_info": {
   "codemirror_mode": {
    "name": "ipython",
    "version": 3
   },
   "file_extension": ".py",
   "mimetype": "text/x-python",
   "name": "python",
   "nbconvert_exporter": "python",
   "pygments_lexer": "ipython3",
   "version": "3.7.8"
  }
 },
 "nbformat": 4,
 "nbformat_minor": 4
}
